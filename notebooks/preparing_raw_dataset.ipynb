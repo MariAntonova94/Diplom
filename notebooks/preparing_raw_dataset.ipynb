{
 "cells": [
  {
   "cell_type": "code",
   "execution_count": 2,
   "metadata": {
    "id": "QFZSbQEYj9z_",
    "pycharm": {
     "is_executing": true,
     "name": "#%%\n"
    }
   },
   "outputs": [],
   "source": [
    "import numpy as np\n",
    "import pandas as pd\n",
    "from sklearn.model_selection import train_test_split\n",
    "from sklearn.preprocessing import StandardScaler\n",
    "import matplotlib as mpl\n",
    "mpl.use('TkAgg')\n",
    "import matplotlib.pyplot as plt"
   ]
  },
  {
   "cell_type": "markdown",
   "metadata": {
    "pycharm": {
     "name": "#%% md\n"
    }
   },
   "source": [
    "Погрузка из google drive при работе в Google Collab"
   ]
  },
  {
   "cell_type": "code",
   "execution_count": 9,
   "metadata": {
    "colab": {
     "base_uri": "https://localhost:8080/"
    },
    "id": "4Sx6xwpQko9H",
    "outputId": "0fd97716-d74a-46c6-d27f-93f5989b5201",
    "pycharm": {
     "name": "#%%\n"
    }
   },
   "outputs": [],
   "source": [
    "# from google.colab import drive\n",
    "# drive.mount('/content/drive')\n",
    "# data = pd.read_csv('/content/drive/MyDrive/Colab Notebooks/test_dataset.csv')"
   ]
  },
  {
   "cell_type": "markdown",
   "metadata": {
    "pycharm": {
     "name": "#%% md\n"
    }
   },
   "source": [
    "Подгружаем unprepared.csv из папки проекта при запуске из main.py"
   ]
  },
  {
   "cell_type": "code",
   "execution_count": 25,
   "metadata": {
    "colab": {
     "base_uri": "https://localhost:8080/",
     "height": 455
    },
    "id": "cXeLNDJW0QiH",
    "outputId": "a958f1ed-78cf-4071-a86e-f4c356f3f337",
    "pycharm": {
     "name": "#%%\n"
    }
   },
   "outputs": [],
   "source": [
    "from pathlib import Path\n",
    "import sys\n",
    "find_root = Path(sys.argv[0]).resolve(strict=True).parents[3]\n",
    "sys.path.append(str(find_root ))\n",
    "from service.paths import get_path_to_raw_data\n",
    "raw_file = get_path_to_raw_data() # текущий RAW_DATA_NAME\n",
    "df = pd.read_csv(raw_file)\n",
    "df[\"success\"] = \"success\"\n",
    "df.to_csv(raw_file.with_name(raw_file.stem+\"_prepped.csv\"),float_format='%.5f',mode='w')"
   ]
  },
  {
   "cell_type": "markdown",
   "metadata": {
    "collapsed": false,
    "pycharm": {
     "name": "#%% md\n"
    }
   },
   "source": [
    "объединяем столбцы даты и часа, чтобы можно было их выразить одним числом. Сначала приводим к типу datetime64 из дата первой колонки+временная дельта(часы) второй колонки  \n",
    "(*результат в отдельной переменной, изначальный датасет не меняется*)"
   ]
  },
  {
   "cell_type": "markdown",
   "metadata": {
    "collapsed": false,
    "pycharm": {
     "name": "#%% md\n"
    }
   },
   "source": [
    "объединяем столбцы даты и часа, чтобы можно было их выразить одним числом. Сначала приводим к типу datetime64 из дата первой колонки+временная дельта(часы) второй колонки  \n",
    "(*результат в отдельной переменной, изначальный датасет не меняется*)"
   ]
  },
  {
   "cell_type": "code",
   "execution_count": null,
   "metadata": {
    "collapsed": false,
    "pycharm": {
     "name": "#%%\n"
    }
   },
   "outputs": [],
   "source": [
    "def make_dt_col(row_date,row_time):\n",
    "    return pd.to_datetime(row_date)+pd.to_timedelta(row_time,unit='h')\n",
    "\n",
    "\n",
    "\n",
    "t_series=df.apply(lambda x: make_dt_col(x['date'],x['time']),axis=1)\n",
    "t_series"
   ]
  },
  {
   "cell_type": "markdown",
   "metadata": {
    "collapsed": false,
    "pycharm": {
     "name": "#%% md\n"
    }
   },
   "source": [
    "Переводим datetime в секунды и тип float"
   ]
  },
  {
   "cell_type": "code",
   "execution_count": null,
   "metadata": {
    "collapsed": false,
    "pycharm": {
     "name": "#%%\n"
    }
   },
   "outputs": [],
   "source": [
    "#преобразуем datetime во float , измерение в секундах\n",
    "t_series=t_series.map(pd.Timestamp.timestamp)"
   ]
  },
  {
   "cell_type": "markdown",
   "metadata": {
    "collapsed": false,
    "pycharm": {
     "name": "#%% md\n"
    }
   },
   "source": [
    "задаем периоды на день и на год в секундах , переводим в радианы, и передаем как аргумент в синусоидные функции"
   ]
  },
  {
   "cell_type": "code",
   "execution_count": null,
   "metadata": {
    "collapsed": false,
    "pycharm": {
     "name": "#%%\n"
    }
   },
   "outputs": [],
   "source": [
    "day_in_secs = 24*60*60 \n",
    "year_in_secs = (365.2425)*day_in_secs\n",
    "\n",
    "\n",
    "df['Hourly sin'] = np.sin(t_series * (2 * np.pi / day_in_secs))\n",
    "df['Hourly cos'] = np.cos(t_series * (2 * np.pi / day_in_secs))\n",
    "df['Daily sin'] = np.sin(t_series * (2 * np.pi / year_in_secs))\n",
    "df['Daily cos'] = np.cos(t_series * (2 * np.pi / year_in_secs))"
   ]
  },
  {
   "cell_type": "markdown",
   "metadata": {
    "collapsed": false,
    "pycharm": {
     "name": "#%% md\n"
    }
   },
   "source": [
    "Проверяем полученные фичи периодичности по времени(не нужны при использовании временных рядов, так как там даты используются как позиционный аргумент=индекс для сортировки и упорядочения)"
   ]
  },
  {
   "cell_type": "markdown",
   "metadata": {
    "collapsed": false,
    "pycharm": {
     "name": "#%% md\n"
    }
   },
   "source": [
    "Проверяем полученные фичи периодичности по времени(не нужны при использовании временных рядов, так как там даты используются как позиционный аргумент=индекс для сортировки и упорядочения)"
   ]
  },
  {
   "cell_type": "code",
   "execution_count": null,
   "metadata": {
    "collapsed": false,
    "pycharm": {
     "name": "#%%\n"
    }
   },
   "outputs": [],
   "source": [
    "plt.plot(np.array(df['Hourly sin'])[:25])\n",
    "plt.plot(np.array(df['Hourly cos'])[:25])\n",
    "plt.xlabel('Time [h]')\n",
    "plt.title('Time of day signal')"
   ]
  },
  {
   "cell_type": "code",
   "execution_count": null,
   "metadata": {
    "collapsed": false,
    "pycharm": {
     "name": "#%%\n"
    }
   },
   "outputs": [],
   "source": [
    "plt.plot(np.array(df['Daily sin'][:10000]))\n",
    "plt.plot(np.array(df['Daily cos'][:10000]))\n",
    "plt.xlabel('Time [d]')\n",
    "plt.title('Year signal')"
   ]
  },
  {
   "cell_type": "markdown",
   "metadata": {
    "collapsed": false,
    "pycharm": {
     "name": "#%% md\n"
    }
   },
   "source": [
    "Изучение семантики в колонках с погодой. Какие слова и как часто встречаются"
   ]
  },
  {
   "cell_type": "code",
   "execution_count": null,
   "metadata": {
    "collapsed": false,
    "pycharm": {
     "name": "#%%\n"
    }
   },
   "outputs": [],
   "source": [
    "def count_sep_words(df_col,split_by = ','):\n",
    "    u_w = df_col.str.split(pat=split_by,expand=True) # получаем датафрейм с разбитыми в отдельные колонки сплитами\n",
    "    u_w = u_w.values.ravel('K') # переводим в одномерный список (numpy.1d-array)\n",
    "    u_w = u_w[u_w != np.array(None)] # фильтруем пустые сплиты\n",
    "    u_w = np.char.strip(u_w.astype('str')) # убираем лишние пробелы\n",
    "    u_w = pd.value_counts(u_w)\n",
    "    with pd.option_context('display.max_rows', None):\n",
    "        print(u_w)\n",
    "    return u_w\n",
    "\n",
    "count_sep_words(df[\"weather_fact\"])\n"
   ]
  },
  {
   "cell_type": "code",
   "execution_count": null,
   "metadata": {
    "collapsed": false,
    "pycharm": {
     "name": "#%%\n"
    }
   },
   "outputs": [],
   "source": [
    "print(\"\\nКолонка с предсказанной погодой:\")\n",
    "count_sep_words(df[\"weather_pred\"].dropna().replace(\"?\",\"\"))"
   ]
  },
  {
   "cell_type": "code",
   "execution_count": null,
   "metadata": {
    "collapsed": false,
    "pycharm": {
     "name": "#%%\n"
    }
   },
   "outputs": [],
   "source": [
    "def parse_weather_column(keywords:list,src_column_name:str,target_column_name:str,df):\n",
    "  '''\n",
    "  Функция для парсинга отдельных столбцов, ищет вхождение переданных ключевых слов в строке и пишет в новую колонку найденное  слово или пустую строку\n",
    "  :keywords: -список ключевых слов. Ищутся по порядку перебором , поэтому лучше указывать сначала длинные слова, а потом их подстроки\n",
    "  (например, если первым ключом будет \"ветер\", то вместо \"ветерок\" будет найден \"ветер\")\n",
    "  :src_column_name: - название столбца, в котором идет поиск\n",
    "  :target_column_name: - желаемое название нового столбца\n",
    "  :df: - объект датафрейма, в котором  исходная колонка\n",
    "  return копия датафрейма с добавленным новым столбцом(функция не inplace, перезаписывайте при надобности свой датафрейм)\n",
    "  '''\n",
    "  def find_kword(row_string):\n",
    "      nonlocal keywords\n",
    "      if isinstance(row_string,str):\n",
    "        for k in keywords:\n",
    "          if k in row_string:\n",
    "            return k\n",
    "      return \"\"\n",
    "  found_list = [find_kword(row) for row in df[src_column_name] ]\n",
    "  new_df = df.copy()\n",
    "  new_df[target_column_name] = found_list\n",
    "  return new_df\n",
    "\n",
    "df  = parse_weather_column([\"ветерок\",\"ветрище\",\"ветер\"],\"weather_fact\",\"wind\",df)\n",
    "\n",
    "df.sample(10)"
   ]
  },
  {
   "cell_type": "code",
   "execution_count": null,
   "metadata": {
    "collapsed": false,
    "pycharm": {
     "name": "#%%\n"
    }
   },
   "outputs": [],
   "source": [
    "df[[\"weather_fact\",\"wind\"]].sample(10)"
   ]
  },
  {
   "cell_type": "markdown",
   "metadata": {
    "collapsed": false,
    "pycharm": {
     "name": "#%% md\n"
    }
   },
   "source": [
    "Переводим колонку ветра в числовой формат с нужной градацией силы ветра"
   ]
  },
  {
   "cell_type": "code",
   "execution_count": null,
   "metadata": {
    "collapsed": false,
    "pycharm": {
     "name": "#%%\n"
    }
   },
   "outputs": [],
   "source": [
    "wind_map = {\n",
    "    \"\": 0,\n",
    "    \"ветерок\": 0.5,\n",
    "    \"ветер\": 1,\n",
    "    \"ветрище\":1.5\n",
    "}\n",
    "df[\"wind\"] = df[\"wind\"].map(wind_map)\n",
    "df[[\"weather_fact\",\"wind\"]].sample(10)"
   ]
  },
  {
   "cell_type": "code",
   "execution_count": null,
   "metadata": {
    "collapsed": false,
    "pycharm": {
     "name": "#%%\n"
    }
   },
   "outputs": [],
   "source": [
    "df.to_csv(\"./data/numeric_features.csv\",float_format='%.5f',mode='w')"
   ]
  }
 ],
 "metadata": {
  "accelerator": "GPU",
  "colab": {
   "gpuType": "T4",
   "provenance": []
  },
  "kernelspec": {
   "display_name": "Python 3",
   "name": "python3"
  },
  "language_info": {
   "codemirror_mode": {
    "name": "ipython",
    "version": 3
   },
   "file_extension": ".py",
   "mimetype": "text/x-python",
   "name": "python",
   "nbconvert_exporter": "python",
   "pygments_lexer": "ipython3",
   "version": "3.10.4"
  }
 },
 "nbformat": 4,
 "nbformat_minor": 0
}